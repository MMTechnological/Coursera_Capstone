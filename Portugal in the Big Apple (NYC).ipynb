{
    "cells": [
        {
            "cell_type": "markdown",
            "metadata": {
                "collapsed": true
            },
            "source": "# Capstone Project - The Battle of The Neighbourhoods"
        },
        {
            "cell_type": "markdown",
            "metadata": {},
            "source": "### Introduction"
        },
        {
            "cell_type": "markdown",
            "metadata": {},
            "source": "In every country you can find a portuguese, at least one. From California to Australia portuguese are everywhere and New York City is not an exception. Demographics data show that it is a large and ethnically diverse metropolis. It is the largest city in the United States with a long history of international immigration. \n\nThroughout its history, New York City has been a major point of entry for immigrants; Lots of languages are spoken in this city and English stands are the most widely spoken language but with all this diversity, some other culture areas are influenced. Food for example. There are many resturants in New york City, each belonging to different categories like Portuguese, Chinese, Indian, French, Italian etc.\nSo as part of this project, we will list and visualize all major parts of New York City that has great portuguese restaurants."
        },
        {
            "cell_type": "markdown",
            "metadata": {},
            "source": "### Data"
        },
        {
            "cell_type": "markdown",
            "metadata": {},
            "source": "For this project the following data will be needed:\n\nNew York City data that contains list Boroughs, Neighborhoods along with their latitude and longitude.\n> Data source : https://cocl.us/new_york_dataset\n\n> Description : This data set will be used to explore various neighborhoods of new york city.\n\nPortuguese resturants in each neighborhood of new york city.\n> Data source : Fousquare API\n\n> Description : By using this api we will get all the venues in each neighborhood. We can filter these venues to get only portuguese resturants.\n\nGeoSpace data\n> Data source : https://data.cityofnewyork.us/City-Government/Borough-Boundaries/tqmj-j8zm\n\n> Description : By using this geo space data we will get the New york Borough boundaries that will help us visualize choropleth map."
        },
        {
            "cell_type": "markdown",
            "metadata": {},
            "source": "### Approach"
        },
        {
            "cell_type": "markdown",
            "metadata": {},
            "source": "* Collect the New York City data from https://cocl.us/new_york_dataset\n* Using FourSquare API we will find all venues for each neighborhood.\n* Filter out all venues that are Portuguese Restaurants.\n* Find rating , tips and like count for each Portuguese Resturants using FourSquare API.\n* Using rating for each resturant , we will sort that data.\n* Visualize the Ranking of neighborhoods using folium library(python)"
        },
        {
            "cell_type": "markdown",
            "metadata": {},
            "source": "### Questions about this datasets"
        },
        {
            "cell_type": "markdown",
            "metadata": {},
            "source": "* Which areas have potential Portuguese Resturant Market ?\n* What is best location in New York City for Portuguese Cuisine ?\n* Which is the best place to stay if I prefer Portuguese Cuisine ?\n* Which all areas lack Portuguese Resturants ?"
        },
        {
            "cell_type": "markdown",
            "metadata": {},
            "source": "### Analysis"
        },
        {
            "cell_type": "code",
            "execution_count": null,
            "metadata": {},
            "outputs": [],
            "source": ""
        }
    ],
    "metadata": {
        "kernelspec": {
            "display_name": "Python 3.6",
            "language": "python",
            "name": "python3"
        },
        "language_info": {
            "codemirror_mode": {
                "name": "ipython",
                "version": 3
            },
            "file_extension": ".py",
            "mimetype": "text/x-python",
            "name": "python",
            "nbconvert_exporter": "python",
            "pygments_lexer": "ipython3",
            "version": "3.6.9"
        }
    },
    "nbformat": 4,
    "nbformat_minor": 1
}